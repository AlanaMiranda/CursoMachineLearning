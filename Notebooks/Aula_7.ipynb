{
  "nbformat": 4,
  "nbformat_minor": 0,
  "metadata": {
    "colab": {
      "name": "Aula 7.ipynb",
      "provenance": []
    },
    "kernelspec": {
      "name": "python3",
      "display_name": "Python 3"
    }
  },
  "cells": [
    {
      "cell_type": "markdown",
      "metadata": {
        "id": "s-jTzlGnSZ95"
      },
      "source": [
        "**Árvore de decisão**\n",
        "\n",
        "Problema de aprendizagem: classificar, com base em alguns atributos, se a pessoa tem ou não diabete. \n",
        "\n",
        "Se a pessoa tiver diabete, o resultado do Outcome é igual a 1, senão é igual a 0.\n",
        "\n",
        "**O dataset diabetes.csv está disponível no drive de materiais do curso**\n",
        "\n",
        "\n"
      ]
    },
    {
      "cell_type": "code",
      "metadata": {
        "id": "6wub_Gc-S2IV"
      },
      "source": [
        "# Importando as bibliotecas que utilizaremos\n",
        "import pandas as pd\n",
        "from sklearn import tree\n",
        "from sklearn.tree import DecisionTreeClassifier,export_graphviz\n",
        "from sklearn.model_selection import train_test_split\n",
        "from sklearn import metrics\n",
        "import numpy as np"
      ],
      "execution_count": 68,
      "outputs": []
    },
    {
      "cell_type": "code",
      "metadata": {
        "id": "-B_QHvLPS9bU"
      },
      "source": [
        "df = pd.read_csv('repositório do csv')\n",
        "df.head()"
      ],
      "execution_count": null,
      "outputs": []
    },
    {
      "cell_type": "code",
      "metadata": {
        "id": "w5zIILKBT8JL"
      },
      "source": [
        "# vendo algumas informações sobre a base\n",
        "df.info()"
      ],
      "execution_count": null,
      "outputs": []
    },
    {
      "cell_type": "markdown",
      "metadata": {
        "id": "rBSgSSRuo_XF"
      },
      "source": [
        "Train Test Split"
      ]
    },
    {
      "cell_type": "code",
      "metadata": {
        "id": "W6RldOYKUNGr"
      },
      "source": [
        "# train and test\n",
        "# X = serão nossos dados de entrada \n",
        "# Y = serão nossos dados de saída (coluna target)\n",
        "X_train, X_test, y_train, y_test = train_test_split(df.drop('Outcome',axis=1),df['Outcome'],test_size=0.3)"
      ],
      "execution_count": null,
      "outputs": []
    },
    {
      "cell_type": "code",
      "metadata": {
        "id": "lIuagovST97e"
      },
      "source": [
        "# verificando o formato dos dados\n",
        "X_train.shape,X_test.shape"
      ],
      "execution_count": null,
      "outputs": []
    },
    {
      "cell_type": "code",
      "metadata": {
        "id": "zkJydKbFVZZR"
      },
      "source": [
        "y_train.shape,y_test.shape"
      ],
      "execution_count": null,
      "outputs": []
    },
    {
      "cell_type": "code",
      "metadata": {
        "id": "2IlrEV82V177"
      },
      "source": [
        "# instânciando o objeto classificador:\n",
        "clf = DecisionTreeClassifier()"
      ],
      "execution_count": null,
      "outputs": []
    },
    {
      "cell_type": "code",
      "metadata": {
        "id": "sgjRdchjqJ-T"
      },
      "source": [
        "# Treinando o modelo de arvore de decisão:\n",
        "clf = clf.fit(X_train,y_train)"
      ],
      "execution_count": null,
      "outputs": []
    },
    {
      "cell_type": "code",
      "metadata": {
        "id": "M6aJSvKFZ684"
      },
      "source": [
        "# criando um objeto para predizer os dados novos de entrada\n",
        "predictions = clf.predict(X_test)"
      ],
      "execution_count": null,
      "outputs": []
    },
    {
      "cell_type": "code",
      "metadata": {
        "id": "OySOt6FgaVZM"
      },
      "source": [
        "# importando o classification report para avaliar algumas métricas das predições\n",
        "from sklearn.metrics import classification_report"
      ],
      "execution_count": null,
      "outputs": []
    },
    {
      "cell_type": "code",
      "metadata": {
        "id": "2oCIOwqKakyX"
      },
      "source": [
        "print(classification_report(y_test, predictions))"
      ],
      "execution_count": null,
      "outputs": []
    },
    {
      "cell_type": "markdown",
      "metadata": {
        "id": "9ri8kwMWqcuD"
      },
      "source": [
        "**Vamos construir nossa árvore**"
      ]
    },
    {
      "cell_type": "markdown",
      "metadata": {
        "id": "N4bxIozAqZZQ"
      },
      "source": [
        "**Parâmetros que utilizaremos do classificador DecisionTreeClassifier**\n",
        "\n",
        "\n",
        "**criterion**: É a métrica utilizada para construção da árvore de decisão. Pode ser gini ou entropy.\n",
        "\n",
        "**splitter**: estratégia utilizada para dividir o nó de decisão.\n",
        "\n",
        "**max_depth**: profundidade máxima da árvore."
      ]
    },
    {
      "cell_type": "code",
      "metadata": {
        "id": "_brBckksblcG"
      },
      "source": [
        "from ipywidgets import interactive\n",
        "from IPython.display import SVG,display\n",
        "from graphviz import Source"
      ],
      "execution_count": null,
      "outputs": []
    },
    {
      "cell_type": "markdown",
      "metadata": {
        "id": "1cw7LHok2VI8"
      },
      "source": [
        "A função de interação (**ipywidgets.interact**) cria automaticamente controles de interface de usuário para explorar código e dados interativamente. \n",
        "\n",
        "**IPython.display.svg** incorpore um SVG à tela.\n",
        "\n",
        "**graphviz.Source** renderizar uma imagem "
      ]
    },
    {
      "cell_type": "code",
      "metadata": {
        "id": "Y0E6eycZoLTY"
      },
      "source": [
        "# matriz atributo (x) e vetor target (y)\n",
        "x,y = df.drop('Outcome',axis=1),df['Outcome']"
      ],
      "execution_count": 64,
      "outputs": []
    },
    {
      "cell_type": "code",
      "metadata": {
        "id": "HKjLVFFgoPk6"
      },
      "source": [
        "# rótulos dos atributos\n",
        "features_label = df.drop('Outcome',axis=1).columns"
      ],
      "execution_count": 65,
      "outputs": []
    },
    {
      "cell_type": "code",
      "metadata": {
        "id": "OnSTVEUwoWO9"
      },
      "source": [
        "# rótulos das classes preditivas\n",
        "class_label = ['0','1']"
      ],
      "execution_count": 66,
      "outputs": []
    },
    {
      "cell_type": "markdown",
      "metadata": {
        "id": "6fd1Up_60LSQ"
      },
      "source": [
        "**Gerando uma árvore de decisão sem definir os parâmetros do DecisiontreeClassifier**"
      ]
    },
    {
      "cell_type": "code",
      "metadata": {
        "id": "R2Usj1HbvVNi"
      },
      "source": [
        "# Aqui não iremos definir o crit, split e depth (parâmetros), o algoritmo definirá sózinho \n",
        "estimator = DecisionTreeClassifier()\n",
        "estimator.fit(x, y)\n",
        "\n",
        "graph = Source(tree.export_graphviz(estimator, out_file=None\n",
        "   , feature_names=features_label, class_names=class_label\n",
        "   , filled = True))\n",
        "display(SVG(graph.pipe(format='svg')))"
      ],
      "execution_count": null,
      "outputs": []
    },
    {
      "cell_type": "markdown",
      "metadata": {
        "id": "0Pno8hNo0SyP"
      },
      "source": [
        "**Gerando uma árvore de decisão e possibilitando, de forma interativa, o ajuste dos parâmetros crit, split e depth**"
      ]
    },
    {
      "cell_type": "code",
      "metadata": {
        "id": "wJcgQvDqoYfO"
      },
      "source": [
        "# criando uma função para plotar a minha árvore em uma imagem\n",
        "def plot_tree(crit, split, depth):\n",
        "    estimator = DecisionTreeClassifier(\n",
        "           random_state = 0 \n",
        "          ,criterion = crit\n",
        "          ,splitter = split\n",
        "          ,max_depth = depth\n",
        "    )\n",
        "    estimator.fit(x, y)\n",
        "    graph = Source(export_graphviz(estimator\n",
        "      , out_file=None\n",
        "      , feature_names=features_label\n",
        "      , class_names=class_label\n",
        "      , filled = True))\n",
        "    display(SVG(graph.pipe(format='svg')))\n",
        "    return estimator"
      ],
      "execution_count": 71,
      "outputs": []
    },
    {
      "cell_type": "code",
      "metadata": {
        "id": "a3WsO6A6su5e"
      },
      "source": [
        "# criando as interações pra definir os parâmetros\n",
        "inter=interactive(plot_tree \n",
        "   , crit = [\"gini\", \"entropy\"]\n",
        "   , split = [\"best\", \"random\"]\n",
        "   , depth=[1,2,3,4,5,10,20,30])\n",
        "\n",
        "display(inter)"
      ],
      "execution_count": null,
      "outputs": []
    },
    {
      "cell_type": "markdown",
      "metadata": {
        "id": "ASU1aa10c5zM"
      },
      "source": [
        "**Explicando alguns parâmetros das funções utilizadas**\n",
        "\n",
        "DecisionTreeClassifier - gerando a árvore\n",
        "\n",
        "**random_state**: em processos aleatórios, é comum que o modelo contenha um parâmetro random_state para manter a consistência entre todas as execuções. É importante mantê-lo fixo, pois dessa forma conseguiremos gerar sempre o mesmo modelo com os mesmos dados.\n",
        "\n",
        "Source (graphviz) - gerando o gráfico no formato svg\n",
        "\n",
        "**out_file=None**: aqui definimos que não queremos jogar nenhum arquivo\n",
        "\n",
        "**feature_names**: aqui definimos os nomes das features (no exemplo, as features recebem os nomes das colunas)\n",
        "\n",
        "**class_names**: aqui definimos os nomes das classes(no exemplo, foram '0' ou '1')\n",
        "\n",
        "**filled=True**: aqui definimos que queremos preencher os retângulos de visualização da árvore de decisão (colorir)\n"
      ]
    }
  ]
}