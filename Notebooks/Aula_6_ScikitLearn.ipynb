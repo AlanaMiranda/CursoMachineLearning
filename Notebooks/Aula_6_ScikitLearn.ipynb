{
  "nbformat": 4,
  "nbformat_minor": 0,
  "metadata": {
    "colab": {
      "name": "Aula 6_ScikitLearn.ipynb",
      "provenance": []
    },
    "kernelspec": {
      "name": "python3",
      "display_name": "Python 3"
    }
  },
  "cells": [
    {
      "cell_type": "markdown",
      "metadata": {
        "id": "WY_MS-sirkLZ"
      },
      "source": [
        "**Introdução ao Scikit-Learn**\n",
        "\n",
        "Problema de aprendizagem: prever o preço da pizza\n",
        "\n",
        "Vamos utilizar o Scikit-learn para criar um modelo de regressão linear que irá prever o preço da pizza tendo como base um atributo da pizza.\n",
        "\n",
        "Relação tamanho(diâmetro) da pizza e preço.\n",
        "\n",
        "Por que usaremos regressão nesse exemplo?"
      ]
    },
    {
      "cell_type": "code",
      "metadata": {
        "id": "WiqlBVUXroOk"
      },
      "source": [
        "# Importando as bibliotecas\n",
        "import matplotlib.pyplot as plt\n",
        "import numpy as np\n",
        "import pandas as pd"
      ],
      "execution_count": 8,
      "outputs": []
    },
    {
      "cell_type": "code",
      "metadata": {
        "id": "euLLFqpCpwrG"
      },
      "source": [
        "# criando um dicionário com uma tabela de preços\n",
        "tab = {'Diametro(cm)': [7, 10, 15, 30, 45],\n",
        "         'Valor(R$)': [8, 11, 16, 38.5, 52]}"
      ],
      "execution_count": 3,
      "outputs": []
    },
    {
      "cell_type": "code",
      "metadata": {
        "id": "81EneNqIqrq9"
      },
      "source": [
        "# criando um dataframe e passando o dicionário como parâmetro\n",
        "df = pd.DataFrame(tab)"
      ],
      "execution_count": 4,
      "outputs": []
    },
    {
      "cell_type": "code",
      "metadata": {
        "id": "AGw3yIO5qwO4"
      },
      "source": [
        "df"
      ],
      "execution_count": null,
      "outputs": []
    },
    {
      "cell_type": "code",
      "metadata": {
        "id": "C58KoS3uqw8S"
      },
      "source": [
        "# convertendo as colunas em listas do python\n",
        "Diametro = [[7],[10],[15],[30],[45]]"
      ],
      "execution_count": null,
      "outputs": []
    },
    {
      "cell_type": "code",
      "metadata": {
        "id": "h1SH3ue2wrMD"
      },
      "source": [
        "Valor = [[8],[11],[16],[38.5], [52]]"
      ],
      "execution_count": null,
      "outputs": []
    },
    {
      "cell_type": "code",
      "metadata": {
        "id": "q8bz73fcw-wG"
      },
      "source": [
        "# construindo um plot pra visualizar como os dados estão distribuidos \n",
        "plt.figure() #cria a minha figura\n",
        "plt.xlabel('Diâmetro(cm)') #define o rótulo do meu eixo x\n",
        "plt.ylabel('Valor(R$') #define o rótulo do meu eixo y\n",
        "plt.title('Diâmetro x Valor') #define o título do meu plot\n",
        "plt.plot(Diametro, Valor, 'r.') #cria o plot e usa como parâmetros os valores de x e y \n",
        "plt.axis([0, 60, 0, 60]) #define os valores dos eixos: [xmin, xmax, ymin, ymax] \n",
        "plt.grid(True) #desenha uma \"grade\" no meu plot \n",
        "plt.show() # exibe o plot"
      ],
      "execution_count": null,
      "outputs": []
    },
    {
      "cell_type": "markdown",
      "metadata": {
        "id": "peEBGk600qTL"
      },
      "source": [
        "Agora vamos modelar o relacionamento diametro x pizza e criar um modelo pra prever o valor da pizza\n",
        "\n",
        ".linear_model: pacote\n",
        "\n",
        "LinearRegression: Função"
      ]
    },
    {
      "cell_type": "code",
      "metadata": {
        "id": "gZUl4BKyyv5Y"
      },
      "source": [
        "# importando o módulo de regressão linear do scikit-learn\n",
        "from sklearn.linear_model import LinearRegression"
      ],
      "execution_count": 9,
      "outputs": []
    },
    {
      "cell_type": "code",
      "metadata": {
        "id": "CKG4-d2V9cvw"
      },
      "source": [
        "# preparando os dados de treino\n",
        "\n",
        "# passando os dados do diametro para uma lista X\n",
        "X = [[7], [10], [15], [30], [45]]\n",
        "\n",
        "# passando os dados do valor para uma lista Y\n",
        "Y = [[8], [11], [16], [38.5], [52]]\n"
      ],
      "execution_count": 6,
      "outputs": []
    },
    {
      "cell_type": "code",
      "metadata": {
        "id": "J1Xuq3Wa-Nwo"
      },
      "source": [
        "# vamos criar o modelo\n",
        "# aqui o meu obj modelo irá funcionar como uma instância da classe LinearRegression()\n",
        "# o comportamento desse objeto vai ser definido pela sua classe\n",
        "modelo = LinearRegression()"
      ],
      "execution_count": 11,
      "outputs": []
    },
    {
      "cell_type": "code",
      "metadata": {
        "id": "92ZfMxg7AU1k"
      },
      "source": [
        "# verificando o tipo do nosso objeto\n",
        "type(modelo)"
      ],
      "execution_count": null,
      "outputs": []
    },
    {
      "cell_type": "code",
      "metadata": {
        "id": "-NQEJXQEAWZ0"
      },
      "source": [
        "# treinando o modelo\n",
        "modelo.fit(X, Y)\n",
        "# o método fit irá aprender a relação matemática entre os valores contidos em X e Y\n",
        "# e gerar um modelo treinado"
      ],
      "execution_count": null,
      "outputs": []
    },
    {
      "cell_type": "code",
      "metadata": {
        "id": "mIMSUhNvEoCc"
      },
      "source": [
        "# prevendo o preço de uma pizza de 20cm de diâmetro (x)\n",
        "print ('R$%.2f' % modelo.predict([[20]]))\n",
        "# o método predict irá prever uma classe, nesse caso a classe que queremos prever (valor) está no y"
      ],
      "execution_count": null,
      "outputs": []
    }
  ]
}