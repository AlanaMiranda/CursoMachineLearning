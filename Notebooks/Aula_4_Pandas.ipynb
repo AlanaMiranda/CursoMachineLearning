{
  "nbformat": 4,
  "nbformat_minor": 0,
  "metadata": {
    "colab": {
      "name": "Aula 4_Pandas.ipynb",
      "provenance": []
    },
    "kernelspec": {
      "name": "python3",
      "display_name": "Python 3"
    }
  },
  "cells": [
    {
      "cell_type": "markdown",
      "metadata": {
        "id": "56O6AwiGlMlg"
      },
      "source": [
        "Pandas\n",
        "\n",
        "1- Criando Séries"
      ]
    },
    {
      "cell_type": "code",
      "metadata": {
        "id": "jDb_gJyUfj3I"
      },
      "source": [
        "import numpy as np\n",
        "import pandas as pd \n",
        "from pandas import Series"
      ],
      "execution_count": 2,
      "outputs": []
    },
    {
      "cell_type": "code",
      "metadata": {
        "id": "LGjpypARfrUX"
      },
      "source": [
        "# Criando uma série sem definir os indices\n",
        "Ser1 = pd.Series([10, 20, 30, 40])\n",
        "Ser1"
      ],
      "execution_count": null,
      "outputs": []
    },
    {
      "cell_type": "code",
      "metadata": {
        "id": "3xNpquV7211t"
      },
      "source": [
        "type(Ser1)"
      ],
      "execution_count": null,
      "outputs": []
    },
    {
      "cell_type": "code",
      "metadata": {
        "id": "4sRWhgIrT8Jc"
      },
      "source": [
        "Ser1.values"
      ],
      "execution_count": null,
      "outputs": []
    },
    {
      "cell_type": "code",
      "metadata": {
        "id": "bXTbTIopUA6C"
      },
      "source": [
        "Ser1.index"
      ],
      "execution_count": null,
      "outputs": []
    },
    {
      "cell_type": "code",
      "metadata": {
        "id": "j34noJophLgI"
      },
      "source": [
        "# Criando uma série e definindo os indices\n",
        "Ser2 = pd.Series([10,20,30,40], index = ['a', 'b', 'c', 'd'])\n",
        "Ser2"
      ],
      "execution_count": null,
      "outputs": []
    },
    {
      "cell_type": "code",
      "metadata": {
        "id": "CCEAfmv8hcy_"
      },
      "source": [
        "Ser2.index"
      ],
      "execution_count": null,
      "outputs": []
    },
    {
      "cell_type": "code",
      "metadata": {
        "id": "B50BW0joi-CJ"
      },
      "source": [
        "# filtrando valores com a notação de slice\n",
        "Ser2[Ser2>20]"
      ],
      "execution_count": null,
      "outputs": []
    },
    {
      "cell_type": "code",
      "metadata": {
        "id": "lbN5PeOExufZ"
      },
      "source": [
        "# filtrando valores a partir do índice\n",
        "Ser2['c']"
      ],
      "execution_count": null,
      "outputs": []
    },
    {
      "cell_type": "markdown",
      "metadata": {
        "id": "fMlfojKE3j-K"
      },
      "source": [
        "2- Manipulando Séries"
      ]
    },
    {
      "cell_type": "code",
      "metadata": {
        "id": "eNCOF1GD34VE"
      },
      "source": [
        "# Criando um dicionário\n",
        "turma = {'Luíz': 5, 'Clara': 10, 'Gabriel': 7, 'Pedro': 8}\n"
      ],
      "execution_count": null,
      "outputs": []
    },
    {
      "cell_type": "code",
      "metadata": {
        "id": "dYGzeYaRCAT8"
      },
      "source": [
        "# Criando uma série e passando o dicionario como parâmetro\n",
        "Ser3 = pd.Series(turma)\n",
        "Ser3"
      ],
      "execution_count": null,
      "outputs": []
    },
    {
      "cell_type": "code",
      "metadata": {
        "id": "Yg6D3rUvlInp"
      },
      "source": [
        "# criando uma lista\n",
        "nomes = ['Luíz', 'Clara', 'Gabriel', 'Pedro','Maria']"
      ],
      "execution_count": null,
      "outputs": []
    },
    {
      "cell_type": "code",
      "metadata": {
        "id": "avHAcQtUltvl"
      },
      "source": [
        "# criando uma série e passando a lista nomes como índice \n",
        "Ser4 = Series(turma, index=nomes)\n",
        "Ser4"
      ],
      "execution_count": null,
      "outputs": []
    },
    {
      "cell_type": "code",
      "metadata": {
        "id": "RyezPrkenybe"
      },
      "source": [
        "# verificando se há valores nulos com o método .isnull() do objeto Ser4\n",
        "Ser4.isnull()"
      ],
      "execution_count": null,
      "outputs": []
    },
    {
      "cell_type": "code",
      "metadata": {
        "id": "NF9QSV-JobFA"
      },
      "source": [
        "# concatenando series\n",
        "Ser3 + Ser4"
      ],
      "execution_count": null,
      "outputs": []
    },
    {
      "cell_type": "code",
      "metadata": {
        "id": "bIu6cafTt2uZ"
      },
      "source": [
        "# alterando o nome do índice\n",
        "Ser4.index.name = 'Aluno'"
      ],
      "execution_count": null,
      "outputs": []
    },
    {
      "cell_type": "code",
      "metadata": {
        "id": "xNrrKbkPuDOa"
      },
      "source": [
        "Ser4"
      ],
      "execution_count": null,
      "outputs": []
    },
    {
      "cell_type": "markdown",
      "metadata": {
        "id": "hpm6xrPuvEBl"
      },
      "source": [
        "3- Criando Dataframes"
      ]
    },
    {
      "cell_type": "code",
      "metadata": {
        "id": "coA8-djRvLkj"
      },
      "source": [
        "# Criando um dicionário\n",
        "dados = {'Aluno': ['Alice', 'Bruna', 'Carlos', 'Daiane', 'Emily'], \n",
        "         'Idade': [10, 12, 11, 14, 13], \n",
        "         'Nota': [8.5, 9.9, 9.8, 7.0, 5.0]}"
      ],
      "execution_count": null,
      "outputs": []
    },
    {
      "cell_type": "code",
      "metadata": {
        "id": "mhqhM7spwoIR"
      },
      "source": [
        "# passando o dicionário para a função Dataframe()\n",
        "turma = pd.DataFrame(dados)"
      ],
      "execution_count": null,
      "outputs": []
    },
    {
      "cell_type": "code",
      "metadata": {
        "id": "JTzxWdLRBq5z"
      },
      "source": [
        "turma"
      ],
      "execution_count": null,
      "outputs": []
    },
    {
      "cell_type": "code",
      "metadata": {
        "id": "cdJ1Dkj4xdP2"
      },
      "source": [
        "type(turma)"
      ],
      "execution_count": null,
      "outputs": []
    },
    {
      "cell_type": "code",
      "metadata": {
        "id": "4APNAiWqzXAz"
      },
      "source": [
        "# criando um novo dataframe com os dados do df antigo e adicionando uma nova coluna, sem especificar seus valores\n",
        "turma2 = pd.DataFrame (dados, columns=['Aluno', 'Idade', 'Nota','Faltas'], index = ['um', 'dois', 'três', 'quatro', 'cinco'])"
      ],
      "execution_count": null,
      "outputs": []
    },
    {
      "cell_type": "code",
      "metadata": {
        "id": "65EpEavZ9FDE"
      },
      "source": [
        "turma2"
      ],
      "execution_count": null,
      "outputs": []
    },
    {
      "cell_type": "code",
      "metadata": {
        "id": "TPkX1GIXDuTd"
      },
      "source": [
        "# Algumas operações com dataframes\n",
        "# imprimindo apenas uma coluna\n",
        "turma2['Idade']"
      ],
      "execution_count": null,
      "outputs": []
    },
    {
      "cell_type": "code",
      "metadata": {
        "id": "XvfyQ2hwEFeA"
      },
      "source": [
        "# imprimindo índices\n",
        "turma2.index"
      ],
      "execution_count": null,
      "outputs": []
    },
    {
      "cell_type": "code",
      "metadata": {
        "id": "tKu__WqbEXWD"
      },
      "source": [
        "# imprimindo colunas\n",
        "turma2.columns"
      ],
      "execution_count": null,
      "outputs": []
    },
    {
      "cell_type": "code",
      "metadata": {
        "id": "9tDQ9FduEcxc"
      },
      "source": [
        "# imprimindo os valores\n",
        "turma2.values"
      ],
      "execution_count": null,
      "outputs": []
    },
    {
      "cell_type": "code",
      "metadata": {
        "id": "b3AtGXprEmDp"
      },
      "source": [
        "# imprimindo com notação de slice\n",
        "turma2['Idade']"
      ],
      "execution_count": null,
      "outputs": []
    },
    {
      "cell_type": "code",
      "metadata": {
        "id": "udhNPVO3FTaR"
      },
      "source": [
        "# imprimindo chamando um atributo do dataframe\n",
        "turma2.Idade"
      ],
      "execution_count": null,
      "outputs": []
    },
    {
      "cell_type": "code",
      "metadata": {
        "id": "sFYuDLO4FP31"
      },
      "source": [
        "# imprimindo com notação de slice\n",
        "turma2[:2]"
      ],
      "execution_count": null,
      "outputs": []
    },
    {
      "cell_type": "markdown",
      "metadata": {
        "id": "9cUV3x4BVjvH"
      },
      "source": [
        "4- Numpy + Pandas"
      ]
    },
    {
      "cell_type": "code",
      "metadata": {
        "id": "rqRgYuuWVmFv"
      },
      "source": [
        "# utilizando pandas e numpy pra alimentar a coluna \"Faltas\"\n",
        "turma2['Faltas'] = np.arange(5)"
      ],
      "execution_count": null,
      "outputs": []
    },
    {
      "cell_type": "code",
      "metadata": {
        "id": "r0txTILUsd2c"
      },
      "source": [
        "turma2"
      ],
      "execution_count": null,
      "outputs": []
    },
    {
      "cell_type": "code",
      "metadata": {
        "id": "PECip-jvsfYC"
      },
      "source": [
        "# resumo estatístico dos dados do dataframe\n",
        "turma2.describe()\n"
      ],
      "execution_count": null,
      "outputs": []
    },
    {
      "cell_type": "code",
      "metadata": {
        "id": "LVJAnOXu61mo"
      },
      "source": [
        "# notação de slice com os índices do dataframe\n",
        "turma2['dois':'cinco']"
      ],
      "execution_count": null,
      "outputs": []
    },
    {
      "cell_type": "code",
      "metadata": {
        "id": "iJhGE4fw8ntW"
      },
      "source": [
        "# localizando um registro pelo nome do índice\n",
        "turma2.loc['dois']"
      ],
      "execution_count": null,
      "outputs": []
    },
    {
      "cell_type": "code",
      "metadata": {
        "id": "Nc3uRfBb8uxU"
      },
      "source": [
        "# localizando um registro pelo índice\n",
        "turma2.iloc[0]"
      ],
      "execution_count": null,
      "outputs": []
    },
    {
      "cell_type": "code",
      "metadata": {
        "id": "IBxIPswmRvG3"
      },
      "source": [
        "# localizando um registro pelo seu índice e coluna\n",
        "turma2.loc['dois', 'Idade']"
      ],
      "execution_count": null,
      "outputs": []
    },
    {
      "cell_type": "code",
      "metadata": {
        "id": "szZo-Qs59Nfb"
      },
      "source": [
        "dic = {'Ano': [2000, 2001, 2002, 2003, 2004, 2005, 2006, 2007], 'Casos': [129, 160, 212, 204, 321, 354, 393, 401]}"
      ],
      "execution_count": null,
      "outputs": []
    },
    {
      "cell_type": "code",
      "metadata": {
        "id": "ZqjwK9c_AblH"
      },
      "source": [
        "df = pd.DataFrame(dic)"
      ],
      "execution_count": null,
      "outputs": []
    },
    {
      "cell_type": "code",
      "metadata": {
        "id": "oHH266VmArxS"
      },
      "source": [
        "df"
      ],
      "execution_count": null,
      "outputs": []
    },
    {
      "cell_type": "code",
      "metadata": {
        "id": "2F95LMmUBPIa"
      },
      "source": [
        "# visualizando a coluna 'Ano' como índice (não modifica o df)\n",
        "print(df.set_index('Ano'))"
      ],
      "execution_count": null,
      "outputs": []
    },
    {
      "cell_type": "code",
      "metadata": {
        "id": "VUq6m-lEB2Pg"
      },
      "source": [
        "# verificando os primeiros registros do dataframe\n",
        "df.head()"
      ],
      "execution_count": null,
      "outputs": []
    },
    {
      "cell_type": "markdown",
      "metadata": {
        "id": "79mTOvaeIq5_"
      },
      "source": [
        "5- Arquivos CSV"
      ]
    },
    {
      "cell_type": "code",
      "metadata": {
        "id": "HdBdKrcBbHiZ"
      },
      "source": [
        "# importando um arquivo csv e gravando em um objeto df\n",
        "df = pd.read_csv('repositorio_do_csv')\n",
        "df"
      ],
      "execution_count": null,
      "outputs": []
    },
    {
      "cell_type": "code",
      "metadata": {
        "id": "mSTyeGxPdRqC"
      },
      "source": [
        "# quando o arquivo não for separado por ',' utilize o sep e especifique o parâmetro para separar as colunas\n",
        "df1 = pd.read_csv('repositorio_do_csv', sep = ';')\n",
        "df1\n",
        "# se o arquivo não for csv, utilize o sep da mesma maneira, porém nolugar de read_csv use o read_table "
      ],
      "execution_count": null,
      "outputs": []
    },
    {
      "cell_type": "code",
      "metadata": {
        "id": "08CjOgaJ3Pog"
      },
      "source": [
        "# esse método retorna os primeiros 5 registros do meu dataset\n",
        "# utilize-o quando quiser ver como os seus dados estão organizados\n",
        "df1.head()"
      ],
      "execution_count": null,
      "outputs": []
    },
    {
      "cell_type": "code",
      "metadata": {
        "id": "0ywWPwxiAjdi"
      },
      "source": [
        "# criando um dicionário\n",
        "dados3 = {'coluna1': [1, 2, 3], \n",
        "         'coluna2': [4, 5, 6]}"
      ],
      "execution_count": null,
      "outputs": []
    },
    {
      "cell_type": "code",
      "metadata": {
        "id": "vJOYcNcWB32X"
      },
      "source": [
        "# armazenando em um objeto do tipo dataframe\n",
        "df3 = pd.DataFrame(dados3)"
      ],
      "execution_count": null,
      "outputs": []
    },
    {
      "cell_type": "code",
      "metadata": {
        "id": "KedT2FsFB8Dy"
      },
      "source": [
        "df3"
      ],
      "execution_count": null,
      "outputs": []
    },
    {
      "cell_type": "code",
      "metadata": {
        "id": "gxO4rzrXEURV"
      },
      "source": [
        "# soma acumulada: soma total dos dados conforme eles crescem com o tempo\n",
        "df3.apply(np.cumsum)"
      ],
      "execution_count": null,
      "outputs": []
    },
    {
      "cell_type": "code",
      "metadata": {
        "id": "eN3ufyq3B9Ur"
      },
      "source": [
        "# método para verificar a média dos valores por colunas \n",
        "df3.mean()"
      ],
      "execution_count": null,
      "outputs": []
    },
    {
      "cell_type": "code",
      "metadata": {
        "id": "Uj4hbOZJCBxI"
      },
      "source": [
        "# pivot (transforma linhas em colunas) e calculo da média\n",
        "df3.mean(1)"
      ],
      "execution_count": null,
      "outputs": []
    },
    {
      "cell_type": "markdown",
      "metadata": {
        "id": "waCjoZJ5cE4p"
      },
      "source": [
        "SERIES TEMPORAIS E PLOTTING"
      ]
    },
    {
      "cell_type": "code",
      "metadata": {
        "id": "YUzjAiWmcHhT"
      },
      "source": [
        "# uma série temporal é um dataframe com apenas uma coluna de dados\n",
        "# pd.date_range irá criar uma sequência de datas. Como parâmetro, você irá passar a data inicial,\n",
        "# o período (tamanho da sequência) e a frequência (Pode ser segundo, minuto, dia, mês, etc)\n",
        "rand = pd.date_range('01/01/2020', periods= 10, freq='D') "
      ],
      "execution_count": 3,
      "outputs": []
    },
    {
      "cell_type": "code",
      "metadata": {
        "id": "8IofhoC5IRze"
      },
      "source": [
        "# você pode imprimir e verificar como fica a sequência\n",
        "rand"
      ],
      "execution_count": null,
      "outputs": []
    },
    {
      "cell_type": "code",
      "metadata": {
        "id": "FCrZqC-Hg43k"
      },
      "source": [
        "# agora iremos criar uma série ts e chamar os seguintes parâmetros:\n",
        "# np.random.randint irá distribuir valores aleatórios dentro de uma sequência\n",
        "# nesse caso, definimos que os valores aleatórios estejam no intervalo de 0 a 500\n",
        "# definimos que o len (comprimento dessa sequência) tenha o tamanho da primeira sequência que criamos, a rand\n",
        "# a sequência de datas rand também será nosso índice para a série\n",
        "ts = pd.Series(np.random.randint(0, 500, len(rand)), index=rand)"
      ],
      "execution_count": null,
      "outputs": []
    },
    {
      "cell_type": "code",
      "metadata": {
        "id": "ACtrxcxWh1Ca"
      },
      "source": [
        "# imprima e veja o resultado\n",
        "ts"
      ],
      "execution_count": null,
      "outputs": []
    },
    {
      "cell_type": "code",
      "metadata": {
        "id": "p1MywK2Xh2cZ"
      },
      "source": [
        "# uma série temporal nos dá muitas possibilidades de análises, \n",
        "# incluindo previsões (Machine Learning). Exemplo: preço de produtos."
      ],
      "execution_count": null,
      "outputs": []
    },
    {
      "cell_type": "markdown",
      "metadata": {
        "id": "cc7zSQHj2waf"
      },
      "source": [
        "Plot com um dataframe"
      ]
    },
    {
      "cell_type": "code",
      "metadata": {
        "id": "xOgY9rC321Y_"
      },
      "source": [
        "df3 = df3.cumsum()"
      ],
      "execution_count": null,
      "outputs": []
    },
    {
      "cell_type": "code",
      "metadata": {
        "id": "kxlIeMBb3KjU"
      },
      "source": [
        "df3"
      ],
      "execution_count": null,
      "outputs": []
    },
    {
      "cell_type": "code",
      "metadata": {
        "id": "hLBNK3n-3Fbu"
      },
      "source": [
        "df3.plot()\n",
        "# como só tinhamos duas colunas de valores no dataframe df3, não foi preciso definir os valores x e y"
      ],
      "execution_count": null,
      "outputs": []
    }
  ]
}