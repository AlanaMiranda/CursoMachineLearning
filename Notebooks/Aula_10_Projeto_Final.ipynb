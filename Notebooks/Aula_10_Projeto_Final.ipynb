{
  "nbformat": 4,
  "nbformat_minor": 0,
  "metadata": {
    "colab": {
      "name": "Aula 10 - Projeto Final.ipynb",
      "provenance": []
    },
    "kernelspec": {
      "name": "python3",
      "display_name": "Python 3"
    },
    "language_info": {
      "name": "python"
    }
  },
  "cells": [
    {
      "cell_type": "markdown",
      "metadata": {
        "id": "pbCYYgzgbKjB"
      },
      "source": [
        "**Sistemas de Recomendação**\n",
        "\n",
        "Problema de aprendizagem: desenvolver um sistema básico de recomendação de filmes\n",
        "\n",
        "Vamos nos concentrar em fornecer um sistema de recomendação básico, sugerindo itens que são mais semelhantes a um outro item específico, neste caso, filmes.\n",
        "\n",
        "Neste projeto iremos utilizar dois datasets: \n",
        "- u.data\n",
        "- Movie_Id_Titles\n",
        "\n",
        "**Tenha em mente que este não é um sistema de recomendação verdadeiramente robusto. Ele apenas informa quais filmes/itens são mais semelhantes à sua escolha de filme.**"
      ]
    },
    {
      "cell_type": "markdown",
      "metadata": {
        "id": "_i0ByFx41OBZ"
      },
      "source": [
        "Importando as primeiras bibliotecas:"
      ]
    },
    {
      "cell_type": "code",
      "metadata": {
        "id": "apT6ukU3vimQ"
      },
      "source": [
        "import numpy as np\n",
        "import pandas as pd"
      ],
      "execution_count": 1,
      "outputs": []
    },
    {
      "cell_type": "markdown",
      "metadata": {
        "id": "FEhky5lY1U-p"
      },
      "source": [
        "Importando os datasets"
      ]
    },
    {
      "cell_type": "code",
      "metadata": {
        "id": "c2QUUalmvtWp"
      },
      "source": [
        "# Importando o primeiro dataset(u.data) com as revisões de filmes dos usuários\n",
        "column_names = ['user_id', 'item_id', 'rating', 'timestamp']\n",
        "df = pd.read_csv('/content/drive/MyDrive/Datasets/u.data', sep='\\t', names=column_names)"
      ],
      "execution_count": 6,
      "outputs": []
    },
    {
      "cell_type": "code",
      "metadata": {
        "id": "qKtbQYZmyRNQ"
      },
      "source": [
        "df.head()"
      ],
      "execution_count": null,
      "outputs": []
    },
    {
      "cell_type": "code",
      "metadata": {
        "id": "-B4wFin7ySG6"
      },
      "source": [
        "# Importando o segundo dataset(Movie_Id_Titles) \n",
        "# que contém os títulos dos mesmos filmes do primeiro dataset\n",
        "df2 = pd.read_csv('/content/drive/MyDrive/Datasets/Movie_Id_Titles')\n",
        "df2.head()"
      ],
      "execution_count": null,
      "outputs": []
    },
    {
      "cell_type": "markdown",
      "metadata": {
        "id": "sqo_uy-l1ac7"
      },
      "source": [
        "**Merge**\n",
        "\n",
        "É uma função que funde Dataframes ou Séries em pandas.\n",
        "\n",
        "No nosso problema de aprendizado, temos dois dataframes com uma coluna em comum. Iremos juntá-las no primeiro dataframe."
      ]
    },
    {
      "cell_type": "code",
      "metadata": {
        "id": "iP04FlqA4kgB"
      },
      "source": [
        "# unindo os dois datasets com base em uma coluna em comum: item_id\n",
        "# parâmetros utilizados: (primeiro dataframe, segundo dataframe, coluna em comum pela qual faremos a união)\n",
        "df = pd.merge(df,df2,on='item_id')"
      ],
      "execution_count": 9,
      "outputs": []
    },
    {
      "cell_type": "code",
      "metadata": {
        "id": "IvUEXOd047U_"
      },
      "source": [
        "# Agora temos a coluna com os títulos de cada filme no nosso primeiro dataframe\n",
        "df.head()"
      ],
      "execution_count": null,
      "outputs": []
    },
    {
      "cell_type": "markdown",
      "metadata": {
        "id": "mEj-VdPy6VJe"
      },
      "source": [
        "**Análise exploratória dos dados**\n",
        "\n",
        "Agora iremos visualizar como os nossos dados estão distribuídos"
      ]
    },
    {
      "cell_type": "markdown",
      "metadata": {
        "id": "ddtCi3KE6fP5"
      },
      "source": [
        "Importando as bibliotecas para visualização de dados"
      ]
    },
    {
      "cell_type": "code",
      "metadata": {
        "id": "RW94v2w07Bx7"
      },
      "source": [
        "import matplotlib.pyplot as plt\n",
        "import seaborn as sns\n",
        "sns.set_style('white') #a função set_style irá definir o estilo dos plots do Seaborn"
      ],
      "execution_count": 11,
      "outputs": []
    },
    {
      "cell_type": "markdown",
      "metadata": {
        "id": "Sd8CXv6TH1YI"
      },
      "source": [
        "**Groupby**\n",
        "\n",
        "A função groupby () é usada para dividir os dados em grupos com base em alguns critérios.\n",
        "\n",
        "Vamos criar um dataframe de avaliações contendo a média e o número de avaliações"
      ]
    },
    {
      "cell_type": "code",
      "metadata": {
        "id": "SrsX0KksINkq"
      },
      "source": [
        "# groupby('title') : agrupando pela coluna title\n",
        "# ['rating].mean() : pegando a média de classificações\n",
        "# .sort_values (ascending=False) : ordenar os valores em ordem decrescente\n",
        "df.groupby('title')['rating'].mean().sort_values(ascending=False).head()\n",
        "# Agora temos a média de avaliação que cada filme recebeu"
      ],
      "execution_count": null,
      "outputs": []
    },
    {
      "cell_type": "code",
      "metadata": {
        "id": "xZNpZ-U2M8HC"
      },
      "source": [
        "# Agora vamos ver os filmes com mais avaliações\n",
        "# ['rating'].count() : contagem das avaliações\n",
        "df.groupby('title')['rating'].count().sort_values(ascending=False).head()"
      ],
      "execution_count": null,
      "outputs": []
    },
    {
      "cell_type": "markdown",
      "metadata": {
        "id": "9cLPKFeeOF0S"
      },
      "source": [
        "O groupy nos retornou os valores em uma Série. \n",
        "\n",
        "Para melhorar a visualização, vamos colocar isso tudo em um dataframe."
      ]
    },
    {
      "cell_type": "code",
      "metadata": {
        "id": "A16Rv1NENZWl"
      },
      "source": [
        "ratings = pd.DataFrame(df.groupby('title')['rating'].mean())\n",
        "ratings.head()"
      ],
      "execution_count": null,
      "outputs": []
    },
    {
      "cell_type": "markdown",
      "metadata": {
        "id": "E_1S6yEvPu3q"
      },
      "source": [
        "**Tenha em mente que a média de avaliação de um filme depende de quantas pessoas o avaliaram. Se um filme tem uma média 5.0 de avaliação, isso não significa necessariamente que ele está entre os mais bem avaliados. Ele pode ter recebido apenas uma avaliação de 5.0** \n",
        "\n",
        "Para ter uma idéia de quantas pessoas avaliaram cada filme, vamos criar uma coluna com a quantidade de avaliações:"
      ]
    },
    {
      "cell_type": "code",
      "metadata": {
        "id": "loVjtqTmOdC7"
      },
      "source": [
        "# criando uma coluna num of ratings no dataframe ratings\n",
        "# a coluna irá receber o groupby com a contagem das avaliações em cada filme\n",
        "ratings['num of ratings'] = pd.DataFrame(df.groupby('title')['rating'].count())\n",
        "ratings.head()"
      ],
      "execution_count": null,
      "outputs": []
    },
    {
      "cell_type": "markdown",
      "metadata": {
        "id": "jdliLVxHQd0U"
      },
      "source": [
        "**Agora vamos criar um histograma para visualizar os dados**"
      ]
    },
    {
      "cell_type": "code",
      "metadata": {
        "id": "qFe_SObaQiuW"
      },
      "source": [
        "# figsize (largura, altura)\n",
        "# “bins” é o número de intervalos que o histograma considera para criar as barras\n",
        "plt.figure(figsize=(10,4))\n",
        "ratings['num of ratings'].hist(bins=70)"
      ],
      "execution_count": null,
      "outputs": []
    },
    {
      "cell_type": "markdown",
      "metadata": {
        "id": "fAoHjLFXt_nk"
      },
      "source": [
        "**Conclusão:** poucos filmes receberam muitas avaliações. A maioria tem 0 ou 1 avaliação.\n",
        "\n",
        "Levando em consideração que a maioria das pessoas apenas assistem os filmes que são sucessos de bilheteria, faz sentido afirmar que são esses que receberam mais revisões no nosso dataset.\n"
      ]
    },
    {
      "cell_type": "markdown",
      "metadata": {
        "id": "Cd6S_phQq2KL"
      },
      "source": [
        "**Vamos criar um jointplot**"
      ]
    },
    {
      "cell_type": "code",
      "metadata": {
        "id": "t0Dct5i4VCU5"
      },
      "source": [
        "# joinplot : plota um gráfico de duas variáveis com gráficos bivariados e univariados.\n",
        "# alpha=0.5 : transparência dos pontos\n",
        "sns.jointplot(x='rating',y='num of ratings',data=ratings,alpha=0.5)"
      ],
      "execution_count": null,
      "outputs": []
    },
    {
      "cell_type": "markdown",
      "metadata": {
        "id": "pa61iBzwxaCW"
      },
      "source": [
        "**Conclusão:** à medida que um filme recebe mais avaliações, é mais provável que ele obtenha uma classificação mais elevada. \n",
        "\n",
        "Quanto melhor o filme, mais pessoas assistem e, consequentemente, avaliam."
      ]
    },
    {
      "cell_type": "markdown",
      "metadata": {
        "id": "S2XS-gQfWqeX"
      },
      "source": [
        "Agora que temos uma ideia geral da aparência dos dados, vamos prosseguir para a **criação de um sistema de recomendação simples** "
      ]
    },
    {
      "cell_type": "markdown",
      "metadata": {
        "id": "-jOiYa7AXZTf"
      },
      "source": [
        "Vamos criar uma matriz que tenha os ids do usuário em um eixo e o título do filme em outro eixo. \n",
        "\n",
        "Cada célula corresponde à avaliação que o usuário deu ao filme. \n",
        "\n",
        "Observe que haverá muitos valores NaN, porque a maioria das pessoas não viu a maioria dos filmes. "
      ]
    },
    {
      "cell_type": "code",
      "metadata": {
        "id": "wBVu68zlW538"
      },
      "source": [
        "# pivot_table: cria uma tabela dinâmica em estilo de planilha como um DataFrame\n",
        "moviemat = df.pivot_table(index='user_id',columns='title',values='rating')\n",
        "moviemat.head()"
      ],
      "execution_count": null,
      "outputs": []
    },
    {
      "cell_type": "code",
      "metadata": {
        "id": "UOOq4rm_X_0U"
      },
      "source": [
        "# 10 filmes mais avaliados\n",
        "ratings.sort_values('num of ratings',ascending=False).head(10)"
      ],
      "execution_count": null,
      "outputs": []
    },
    {
      "cell_type": "markdown",
      "metadata": {
        "id": "Up7yOImGYYRx"
      },
      "source": [
        "Vamos escolher dois filmes: Star Wars(ficção científica)e Liar Liar (comédia) para avaliar."
      ]
    },
    {
      "cell_type": "code",
      "metadata": {
        "id": "OBhDST4sacp7"
      },
      "source": [
        "# vamos pegar as avaliações dos usuários para esses dois filmes: \n",
        "starwars_user_ratings = moviemat['Star Wars (1977)']\n",
        "liarliar_user_ratings = moviemat['Liar Liar (1997)']"
      ],
      "execution_count": 20,
      "outputs": []
    },
    {
      "cell_type": "code",
      "metadata": {
        "id": "fmS4WnGFawid"
      },
      "source": [
        "# verificando \n",
        "starwars_user_ratings.head()\n",
        "# agora temos uma Série com os ids dos usuários e a classificação que eles deram ao filme\n",
        "# NaN : não assistiu ou não avaliou"
      ],
      "execution_count": null,
      "outputs": []
    },
    {
      "cell_type": "markdown",
      "metadata": {
        "id": "zvlDhBzybdV0"
      },
      "source": [
        "**Corrwith**\n",
        "\n",
        "Podemos usar o método corrwith () para obter correlações entre duas séries de pandas"
      ]
    },
    {
      "cell_type": "code",
      "metadata": {
        "id": "95rH5yUJbk7x"
      },
      "source": [
        "similar_to_starwars = moviemat.corrwith(starwars_user_ratings)\n",
        "similar_to_liarliar = moviemat.corrwith(liarliar_user_ratings)"
      ],
      "execution_count": null,
      "outputs": []
    },
    {
      "cell_type": "code",
      "metadata": {
        "id": "-WE8V8dcbBQH"
      },
      "source": [
        "similar_to_starwars.head(10)"
      ],
      "execution_count": null,
      "outputs": []
    },
    {
      "cell_type": "markdown",
      "metadata": {
        "id": "L-lXHc5qcmX3"
      },
      "source": [
        "Vamos limpar isso removendo os valores NaN e usar um DataFrame em vez de uma série: "
      ]
    },
    {
      "cell_type": "code",
      "metadata": {
        "id": "5UBwOZdGcIpt"
      },
      "source": [
        "# .dropna(inplace=True) : faz a operação inplace e retorna None. \n",
        "corr_starwars = pd.DataFrame(similar_to_starwars,columns=['Correlation'])\n",
        "corr_starwars.dropna(inplace=True)\n",
        "corr_starwars.head(10)"
      ],
      "execution_count": null,
      "outputs": []
    },
    {
      "cell_type": "markdown",
      "metadata": {
        "id": "N_Oflbh8d9Ed"
      },
      "source": [
        "Se ordenarmos o dataframe por correlação, devemos obter os filmes mais semelhantes.\n",
        "\n",
        "No entanto, obtemos alguns resultados que não fazem sentido. Isso ocorre porque há muitos filmes assistidos apenas uma vez por usuários que também assistiram a Star Wars (foi o filme mais popular). "
      ]
    },
    {
      "cell_type": "code",
      "metadata": {
        "id": "Oxk7KTx2eKiO"
      },
      "source": [
        "corr_starwars.sort_values('Correlation',ascending=False).head(10)"
      ],
      "execution_count": null,
      "outputs": []
    },
    {
      "cell_type": "markdown",
      "metadata": {
        "id": "sC4RMQbiefpw"
      },
      "source": [
        "Vamos corrigir isso filtrando os filmes com mais de 100 avaliações "
      ]
    },
    {
      "cell_type": "code",
      "metadata": {
        "id": "ljv04K0besbk"
      },
      "source": [
        "# usando o join para juntar o número de avaliações ao meu dataframe com as correlações de star wars\n",
        "corr_starwars = corr_starwars.join(ratings['num of ratings'])\n",
        "corr_starwars.head()"
      ],
      "execution_count": null,
      "outputs": []
    },
    {
      "cell_type": "markdown",
      "metadata": {
        "id": "CYf_krLbfT9O"
      },
      "source": [
        "Ordenando os valores, observamos como os títulos fazem muito mais sentido: \n"
      ]
    },
    {
      "cell_type": "code",
      "metadata": {
        "id": "ebtlX3ttgsBn"
      },
      "source": [
        "# filtrando os filmes que receberam mais de 100 avaliações \n",
        "# ordenando os valores pela coluna Correlation em ordem decrescente\n",
        "corr_starwars[corr_starwars['num of ratings']>100].sort_values('Correlation',ascending=False).head()"
      ],
      "execution_count": null,
      "outputs": []
    },
    {
      "cell_type": "markdown",
      "metadata": {
        "id": "kveOjIU1g6HV"
      },
      "source": [
        "**Agora faremos o mesmo para a comédia Liar Liar** "
      ]
    },
    {
      "cell_type": "code",
      "metadata": {
        "id": "28IwQ0uNhDv0"
      },
      "source": [
        "corr_liarliar = pd.DataFrame(similar_to_liarliar,columns=['Correlation'])\n",
        "corr_liarliar.dropna(inplace=True)\n",
        "corr_liarliar = corr_liarliar.join(ratings['num of ratings'])\n",
        "corr_liarliar[corr_liarliar['num of ratings']>100].sort_values('Correlation',ascending=False).head()"
      ],
      "execution_count": null,
      "outputs": []
    },
    {
      "cell_type": "markdown",
      "metadata": {
        "id": "oCLYvBrv3HE0"
      },
      "source": [
        "Fim! :)"
      ]
    }
  ]
}