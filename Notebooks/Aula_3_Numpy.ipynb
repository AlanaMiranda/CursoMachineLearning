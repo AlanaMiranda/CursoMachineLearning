{
  "nbformat": 4,
  "nbformat_minor": 0,
  "metadata": {
    "colab": {
      "name": "Aula 3_Numpy.ipynb",
      "provenance": []
    },
    "kernelspec": {
      "name": "python3",
      "display_name": "Python 3"
    }
  },
  "cells": [
    {
      "cell_type": "markdown",
      "metadata": {
        "id": "yxBdBEPmRY6t"
      },
      "source": [
        "**Numpy**\r\n",
        "\r\n",
        "\r\n",
        "Vetor: array com uma dimensão\r\n",
        "\r\n",
        "Matriz: array com duas ou mais dimensões\r\n",
        "\r\n",
        "**A compreensão sobre Arrays do Numpy ajudará a utilizar as ferramentas do Pandas de forma muito mais eficaz**"
      ]
    },
    {
      "cell_type": "code",
      "metadata": {
        "id": "ytritWaRRdXJ"
      },
      "source": [
        "# importando o numpy\r\n",
        "import numpy as np"
      ],
      "execution_count": null,
      "outputs": []
    },
    {
      "cell_type": "markdown",
      "metadata": {
        "id": "1ymb1qUFpNCA"
      },
      "source": [
        "Array unidimensional"
      ]
    },
    {
      "cell_type": "code",
      "metadata": {
        "id": "AHKSGdw8TQhf"
      },
      "source": [
        "# criando um array a partir de uma lista\r\n",
        "lista = [1, 2, 3, 4, 5, 6]"
      ],
      "execution_count": null,
      "outputs": []
    },
    {
      "cell_type": "code",
      "metadata": {
        "id": "I0p_nHreU4Za"
      },
      "source": [
        "# passando a lista como parâmetro para a função array\r\n",
        "arr = np.array([1,2,3,4,5,6])"
      ],
      "execution_count": null,
      "outputs": []
    },
    {
      "cell_type": "code",
      "metadata": {
        "id": "XDMr-xttY2et"
      },
      "source": [
        "# verificando se arr é do tipo array numpy\r\n",
        "type(arr)"
      ],
      "execution_count": null,
      "outputs": []
    },
    {
      "cell_type": "code",
      "metadata": {
        "id": "TcNBYdJmY_2M"
      },
      "source": [
        "# imprimindo o array\r\n",
        "print(arr)"
      ],
      "execution_count": null,
      "outputs": []
    },
    {
      "cell_type": "code",
      "metadata": {
        "id": "-ltVO5-2a_VA"
      },
      "source": [
        "# imprimindo um elemento específico do array\r\n",
        "arr[3]"
      ],
      "execution_count": null,
      "outputs": []
    },
    {
      "cell_type": "code",
      "metadata": {
        "id": "YiPeVZake-uy"
      },
      "source": [
        "# alterando um elemento do array\r\n",
        "arr[5] = 100\r\n",
        "print(arr)"
      ],
      "execution_count": null,
      "outputs": []
    },
    {
      "cell_type": "code",
      "metadata": {
        "id": "7AZUFlz9ubWs"
      },
      "source": [
        "# tentando adicionar um tipo diferente de dado no array\r\n",
        "arr[0] = \"novo\""
      ],
      "execution_count": null,
      "outputs": []
    },
    {
      "cell_type": "code",
      "metadata": {
        "id": "qc4ClVaXfkTJ"
      },
      "source": [
        "# verificando o formato do array (quanto elementos tem em cada dimensão)\r\n",
        "print(arr.shape)"
      ],
      "execution_count": null,
      "outputs": []
    },
    {
      "cell_type": "markdown",
      "metadata": {
        "id": "JYHG-acrpSOg"
      },
      "source": [
        "Array multidimensional"
      ]
    },
    {
      "cell_type": "code",
      "metadata": {
        "id": "BhQHeT9igK2Q"
      },
      "source": [
        "# criando um array multidimensional com listas aninhadas\r\n",
        "arr_2d = np.array([[1, 2, 3], [4, 5, 6]])\r\n",
        "print(arr_2d)"
      ],
      "execution_count": null,
      "outputs": []
    },
    {
      "cell_type": "code",
      "metadata": {
        "id": "jUrtBIvbu189"
      },
      "source": [
        "# formato (shape)\r\n",
        "arr_2d.shape"
      ],
      "execution_count": null,
      "outputs": []
    },
    {
      "cell_type": "code",
      "metadata": {
        "id": "r8wrTqTsm3aD"
      },
      "source": [
        "# dimensões\r\n",
        "arr_2d.ndim"
      ],
      "execution_count": null,
      "outputs": []
    },
    {
      "cell_type": "code",
      "metadata": {
        "id": "rDYHfftuyXOz"
      },
      "source": [
        "# Para gerar uma sequência, utilizamos o arange\r\n",
        "np.arange(20)"
      ],
      "execution_count": null,
      "outputs": []
    },
    {
      "cell_type": "code",
      "metadata": {
        "id": "zye2CvZX-lYS"
      },
      "source": [
        "# criando um array multidimensional com o reshape\r\n",
        "novo_arr2d = np.arange(50).reshape(5,10)\r\n",
        "novo_arr2d"
      ],
      "execution_count": null,
      "outputs": []
    },
    {
      "cell_type": "markdown",
      "metadata": {
        "id": "e0oevhPUo4ht"
      },
      "source": [
        "Funções zeros e ones"
      ]
    },
    {
      "cell_type": "code",
      "metadata": {
        "id": "myROZt2SpYfm"
      },
      "source": [
        "# criando um array com todos os valores nulos\r\n",
        "np.zeros(10)"
      ],
      "execution_count": null,
      "outputs": []
    },
    {
      "cell_type": "code",
      "metadata": {
        "id": "d_AjHc5sqM9R"
      },
      "source": [
        "# criando um array multidimensional com ones, passando uma tupla como parâmetro\r\n",
        "np.ones((2,3))"
      ],
      "execution_count": null,
      "outputs": []
    },
    {
      "cell_type": "code",
      "metadata": {
        "id": "8uXcfhVkpkr4"
      },
      "source": [
        "# criando um array multidimensional com todos os valores nulos, passando uma tupla como parâmetro\r\n",
        "np.zeros((3, 3))"
      ],
      "execution_count": null,
      "outputs": []
    },
    {
      "cell_type": "code",
      "metadata": {
        "id": "PfRtWubSqv9B"
      },
      "source": [
        "# gerando uma sequência com arange seguindo uma progressão aritmética a partir de um intervalo- start, stop, step\r\n",
        "np.arange(0, 20, 2)"
      ],
      "execution_count": null,
      "outputs": []
    },
    {
      "cell_type": "markdown",
      "metadata": {
        "id": "75J4PbDbzG3X"
      },
      "source": [
        "Tipos de dados em arrays- dtype\r\n",
        "\r\n",
        "**O tipo de dado, ou dtype, é uma informação de metadados, ou seja, são dados sobre os dados. Ele nos informa qual é o tipo de dado armazenado em memória.**"
      ]
    },
    {
      "cell_type": "code",
      "metadata": {
        "id": "MaQ_F8b0zQRg"
      },
      "source": [
        "# quando não definimos o tipo de dado, o numpy tenta definir o tipo baseado nos valores de entrada\r\n",
        "a = np.array([1, 2])\r\n",
        "b = np.array([1.0, 2.0])\r\n",
        "c = np.array([1, 2, 3], dtype = np.float64)\r\n",
        "print(a.dtype, b.dtype, c.dtype)"
      ],
      "execution_count": null,
      "outputs": []
    },
    {
      "cell_type": "markdown",
      "metadata": {
        "id": "jHmeO0xzmOjC"
      },
      "source": [
        "Aritmética e outras operações com arrays"
      ]
    },
    {
      "cell_type": "code",
      "metadata": {
        "id": "_tR7rbmxmSd6"
      },
      "source": [
        "arr = np.array([[2,4,6], [8, 6, 4]])"
      ],
      "execution_count": null,
      "outputs": []
    },
    {
      "cell_type": "code",
      "metadata": {
        "id": "ZwvHOZyZmhXv"
      },
      "source": [
        "print(arr)"
      ],
      "execution_count": null,
      "outputs": []
    },
    {
      "cell_type": "code",
      "metadata": {
        "id": "NhYhjAzEmrrO"
      },
      "source": [
        "# soma \r\n",
        "soma = arr + arr\r\n",
        "print(soma)"
      ],
      "execution_count": null,
      "outputs": []
    },
    {
      "cell_type": "code",
      "metadata": {
        "id": "eUH2EiD5m3y9"
      },
      "source": [
        "# adicionando 10 a todos os valores \r\n",
        "dez = arr + 10\r\n",
        "print(dez)"
      ],
      "execution_count": null,
      "outputs": []
    },
    {
      "cell_type": "code",
      "metadata": {
        "id": "BY_0C7eDnYDo"
      },
      "source": [
        "# comparando arrays para retornar um array booleano\r\n",
        "arr2 = np.array([[1,3,5], [9,7,5]])\r\n",
        "arr2 > arr"
      ],
      "execution_count": null,
      "outputs": []
    },
    {
      "cell_type": "code",
      "metadata": {
        "id": "P4lF3dain-9C"
      },
      "source": [
        "# copiando um array \r\n",
        "arr_copy = arr.copy()\r\n",
        "print(arr_copy)"
      ],
      "execution_count": null,
      "outputs": []
    },
    {
      "cell_type": "code",
      "metadata": {
        "id": "njCKA5yps89N"
      },
      "source": [
        "# usando o método around para arredondar valores do tipo float\r\n",
        "a = np.array ([1.5, 2.8, 3.3, 4.9])\r\n",
        "b = np.around(a)"
      ],
      "execution_count": null,
      "outputs": []
    },
    {
      "cell_type": "code",
      "metadata": {
        "id": "V7e26116uEgq"
      },
      "source": [
        "print(b)"
      ],
      "execution_count": null,
      "outputs": []
    },
    {
      "cell_type": "markdown",
      "metadata": {
        "id": "vaMP0m41SHld"
      },
      "source": [
        "Indexação e fatiamento"
      ]
    },
    {
      "cell_type": "code",
      "metadata": {
        "id": "SY2FkLu2Sg2z"
      },
      "source": [
        "# a indexação em Python começa em 0!\r\n",
        "# fatiamento em array unidimensional \r\n",
        "arr1 = np.arange(10)\r\n",
        "arr1"
      ],
      "execution_count": null,
      "outputs": []
    },
    {
      "cell_type": "code",
      "metadata": {
        "id": "fSlXSSJyjpQi"
      },
      "source": [
        "# filtrando o sexto elemento no índice 5\r\n",
        "arr1[5]"
      ],
      "execution_count": null,
      "outputs": []
    },
    {
      "cell_type": "code",
      "metadata": {
        "id": "c-Kg80Whj8l0"
      },
      "source": [
        "# selecionando os elementos do índice 4 ao 8. O 8 é exclusivo.\r\n",
        "arr1[4:8]"
      ],
      "execution_count": null,
      "outputs": []
    },
    {
      "cell_type": "code",
      "metadata": {
        "id": "8bOTdP52YZav"
      },
      "source": [
        "# retornando todos os valores da array\r\n",
        "arr1[:]"
      ],
      "execution_count": null,
      "outputs": []
    },
    {
      "cell_type": "code",
      "metadata": {
        "id": "S1CThi3hZsWP"
      },
      "source": [
        "# retornando todos os valores a partir do índice 2\r\n",
        "arr1[2:]"
      ],
      "execution_count": null,
      "outputs": []
    },
    {
      "cell_type": "code",
      "metadata": {
        "id": "jJoZnzJFZ6Co"
      },
      "source": [
        "# retornando todos valores da array até o índice 8, excluindo o índice 8\r\n",
        "arr1[:8]"
      ],
      "execution_count": null,
      "outputs": []
    },
    {
      "cell_type": "markdown",
      "metadata": {
        "id": "IQ0g6fExaNoO"
      },
      "source": [
        "Indexação e fatiamentos de arrays com mais dimensões"
      ]
    },
    {
      "cell_type": "code",
      "metadata": {
        "id": "TFLoZdq9cBl6"
      },
      "source": [
        "# criando um array com duas dimensões\r\n",
        "arr2d = np.array([[1,2,3], [4,5,6], [7,8,9]])\r\n",
        "arr2d"
      ],
      "execution_count": null,
      "outputs": []
    },
    {
      "cell_type": "code",
      "metadata": {
        "id": "b9b98k2tcW1B"
      },
      "source": [
        "# retornando a segunda linha do array\r\n",
        "arr2d[1]"
      ],
      "execution_count": null,
      "outputs": []
    },
    {
      "cell_type": "code",
      "metadata": {
        "id": "KRy53u4e2V9l"
      },
      "source": [
        "# retornando o elemento da terceira linha e terceira coluna\r\n",
        "arr2d[2,2]"
      ],
      "execution_count": null,
      "outputs": []
    },
    {
      "cell_type": "code",
      "metadata": {
        "id": "xeEq1aCZ2pHw"
      },
      "source": [
        "# retornando os valores 2, 3, 5 e 6 do array\r\n",
        "arr2d[:2,1:]"
      ],
      "execution_count": null,
      "outputs": []
    },
    {
      "cell_type": "code",
      "metadata": {
        "id": "GsUTBdAbc1Xc"
      },
      "source": [
        "# criando um array com três dimensões\r\n",
        "arr3d = np.array([[[5, 10, 15], [20,25,30]],[[35,40,45],[50,55,60]]])"
      ],
      "execution_count": null,
      "outputs": []
    },
    {
      "cell_type": "code",
      "metadata": {
        "id": "Khfwh8BC_AS6"
      },
      "source": [
        "print(arr3d)"
      ],
      "execution_count": null,
      "outputs": []
    },
    {
      "cell_type": "code",
      "metadata": {
        "id": "Rsnkj3kJ_A9u"
      },
      "source": [
        "# selecionando o primeiro elemento\r\n",
        "arr3d[0]\r\n"
      ],
      "execution_count": null,
      "outputs": []
    },
    {
      "cell_type": "code",
      "metadata": {
        "id": "5q46F7J1C6fD"
      },
      "source": [
        "# selecionando o elemento com índice 1 e o sub-elemento com índice 0\r\n",
        "arr3d[1, 0]"
      ],
      "execution_count": null,
      "outputs": []
    },
    {
      "cell_type": "code",
      "metadata": {
        "id": "hNZtUuhyfHmn"
      },
      "source": [
        "# selecionando o elemento final do sub-elemento com índice 1\r\n",
        "arr3d[1, 1, 2]"
      ],
      "execution_count": null,
      "outputs": []
    }
  ]
}