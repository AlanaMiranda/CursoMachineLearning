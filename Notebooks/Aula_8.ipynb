{
  "nbformat": 4,
  "nbformat_minor": 0,
  "metadata": {
    "colab": {
      "name": "Aula 8.ipynb",
      "provenance": []
    },
    "kernelspec": {
      "name": "python3",
      "display_name": "Python 3"
    },
    "language_info": {
      "name": "python"
    }
  },
  "cells": [
    {
      "cell_type": "markdown",
      "metadata": {
        "id": "csrZ6LMxgDEQ"
      },
      "source": [
        "**Clusterização com K-means**\n",
        "\n",
        "Problema de aprendizagem: agrupar, com base em alguns atributos, flores por espécies \n",
        "\n",
        "Classes: Iris-setosa, Iris-versicolor e Iris-virginica\n",
        "\n",
        "O dataset Iris.csv está disponível no drive de materiais do curso"
      ]
    },
    {
      "cell_type": "code",
      "metadata": {
        "id": "M8CLCnDhgH6h"
      },
      "source": [
        "# Importando as primeiras bibliotecas\n",
        "import pandas as pd\n",
        "import numpy as np"
      ],
      "execution_count": 2,
      "outputs": []
    },
    {
      "cell_type": "markdown",
      "metadata": {
        "id": "asgKG4N5Y7zt"
      },
      "source": [
        "**Visualizando informações do meu dataset**"
      ]
    },
    {
      "cell_type": "code",
      "metadata": {
        "id": "U0hSnCj3gK4a"
      },
      "source": [
        "iris = pd.read_csv('diretorio do Iris.csv')"
      ],
      "execution_count": 3,
      "outputs": []
    },
    {
      "cell_type": "code",
      "metadata": {
        "id": "v4BZIEYkU6s6"
      },
      "source": [
        "iris.head()"
      ],
      "execution_count": null,
      "outputs": []
    },
    {
      "cell_type": "code",
      "metadata": {
        "id": "qYRQYxR_XvuW"
      },
      "source": [
        "iris.shape"
      ],
      "execution_count": null,
      "outputs": []
    },
    {
      "cell_type": "markdown",
      "metadata": {
        "id": "2WSHoUvdZCCu"
      },
      "source": [
        "**Pré-processamento dos dados**"
      ]
    },
    {
      "cell_type": "code",
      "metadata": {
        "id": "RQ_dCYoGZIgU"
      },
      "source": [
        "# para garantirmos dados numéricos, vamos garantir que as colunas sejam do tipo float:\n",
        "for i in iris.columns[1:5]:\n",
        "    iris[i] = iris[i].astype(float)"
      ],
      "execution_count": 8,
      "outputs": []
    },
    {
      "cell_type": "code",
      "metadata": {
        "id": "s1xdbnvyZ83-"
      },
      "source": [
        "iris.dtypes"
      ],
      "execution_count": null,
      "outputs": []
    },
    {
      "cell_type": "markdown",
      "metadata": {
        "id": "acwJSFiMbtUW"
      },
      "source": [
        "**Definindo as variáveis x e y**"
      ]
    },
    {
      "cell_type": "code",
      "metadata": {
        "id": "8qyEB0OkcR0J"
      },
      "source": [
        "x = iris.iloc[:, 1:5].values"
      ],
      "execution_count": 12,
      "outputs": []
    },
    {
      "cell_type": "code",
      "metadata": {
        "id": "oeP3oYgUcr-l"
      },
      "source": [
        "y = iris.iloc[:, 5]"
      ],
      "execution_count": 13,
      "outputs": []
    },
    {
      "cell_type": "markdown",
      "metadata": {
        "id": "SIjY0hh8djh1"
      },
      "source": [
        "**Aplicando o K-means** "
      ]
    },
    {
      "cell_type": "code",
      "metadata": {
        "id": "ZF5UpnRKeNNH"
      },
      "source": [
        "from sklearn.cluster import KMeans"
      ],
      "execution_count": 14,
      "outputs": []
    },
    {
      "cell_type": "code",
      "metadata": {
        "id": "MbXA0W-ydoIf"
      },
      "source": [
        "# Agora vamos aplicar o kmeans nos valores da variável x \n",
        "# não estamos ‘contando’ ao algoritmo quais são as classes de cada flor\n",
        "kmeans = KMeans(n_clusters=3, random_state=0).fit(x)\n",
        "#fit(x): aqui o fit está estudando apenas a relação matemática entre os dados da variável x\n",
        "y_kmeans = kmeans.fit_predict(x)\n",
        "#kmeans.fit_predict: esse método irá calcular os centros dos clusters \n",
        "#e prever o índice de cluster para cada amostra da variável x "
      ],
      "execution_count": 15,
      "outputs": []
    },
    {
      "cell_type": "code",
      "metadata": {
        "id": "g_oT_jyVvYUg"
      },
      "source": [
        "y_kmeans"
      ],
      "execution_count": null,
      "outputs": []
    },
    {
      "cell_type": "markdown",
      "metadata": {
        "id": "FbDwHIUelvXX"
      },
      "source": [
        "Explicando alguns parâmetros da função KMeans\n",
        "\n",
        "**n_clusters**: o número de clusters a serem formados, bem como o número de centróides a serem gerados. \n",
        "\n",
        "**init = 'k-means++'**: seleciona os centros de cluster iniciais para o cluster k-mean, de uma forma inteligente, para acelerar a convergência.\n",
        "\n",
        "**n_init=10**: número de vezes que o algoritmo k-means será executado com diferentes lançamentos de centróide.\n",
        "\n",
        "**max_iter=300**: número máximo de iterações do algoritmo k-means a serem executados. \n",
        "\n",
        "**random_state=0**: determina a geração de número aleatório para inicialização do centróide."
      ]
    },
    {
      "cell_type": "markdown",
      "metadata": {
        "id": "_TCp0GfH1tWP"
      },
      "source": [
        "**Checando a clusterização**"
      ]
    },
    {
      "cell_type": "code",
      "metadata": {
        "id": "wAq0maPL1xv9"
      },
      "source": [
        "#criando uma tabela resultados contendo a coluna das classes esperadas \n",
        "#e a coluna dos clusters criados:\n",
        "resultados = iris[['Species']].copy()\n",
        "resultados['clusterNum'] = y_kmeans\n",
        "resultados"
      ],
      "execution_count": null,
      "outputs": []
    },
    {
      "cell_type": "markdown",
      "metadata": {
        "id": "umxH2OrzgQtf"
      },
      "source": [
        "**Visualizando os clusters**"
      ]
    },
    {
      "cell_type": "code",
      "metadata": {
        "id": "Lxop0kOigsQm"
      },
      "source": [
        "import matplotlib.pyplot as plt"
      ],
      "execution_count": 18,
      "outputs": []
    },
    {
      "cell_type": "code",
      "metadata": {
        "id": "4yrxB6nygS2L"
      },
      "source": [
        "plt.scatter(x[y_kmeans == 0, 0], x[y_kmeans == 0, 1], s = 50, c = 'red', label = 'Iris-virginica')\n",
        "plt.scatter(x[y_kmeans == 1, 0], x[y_kmeans == 1, 1], s = 50, c = 'blue', label = 'Iris-setosa')\n",
        "plt.scatter(x[y_kmeans == 2, 0], x[y_kmeans == 2, 1], s = 50, c = 'green', label = 'Iris-versicolor')\n",
        "plt.legend()\n",
        "# scatter(x,y)\n",
        "# s: escala dos pontos, c: cor, label: rótulo\n"
      ],
      "execution_count": null,
      "outputs": []
    }
  ]
}